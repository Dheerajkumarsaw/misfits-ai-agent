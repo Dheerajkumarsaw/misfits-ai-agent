{
 "cells": [
  {
   "cell_type": "markdown",
   "metadata": {
    "id": "meetup-bot-title"
   },
   "source": [
    "# 🤖 Meetup Bot API - Google Colab Setup\n",
    "\n",
    "This notebook sets up the Meetup Recommendation Bot API in Google Colab with public internet access using ngrok.\n",
    "\n",
    "## Features:\n",
    "- ✅ Smart city-based event filtering\n",
    "- ✅ ChromaDB integration with cloud database\n",
    "- ✅ FastAPI with public URL via ngrok\n",
    "- ✅ JSON API endpoints for mobile/web apps\n",
    "- ✅ IST timezone support"
   ]
  },
  {
   "cell_type": "markdown",
   "metadata": {
    "id": "installation-section"
   },
   "source": [
    "## Step 1: Install Required Packages"
   ]
  },
  {
   "cell_type": "code",
   "execution_count": null,
   "metadata": {
    "id": "install-packages"
   },
   "outputs": [],
   "source": [
    "# Install all required packages\n",
    "!pip install fastapi==0.104.1 uvicorn[standard]==0.24.0 pydantic==2.5.0\n",
    "!pip install chromadb==0.4.18 openai==1.3.5 pandas==2.1.3 numpy==1.26.2\n",
    "!pip install sentence-transformers==2.2.2 requests==2.31.0 python-multipart==0.0.6\n",
    "!pip install pyngrok nest-asyncio\n",
    "\n",
    "print(\"✅ All packages installed successfully!\")"
   ]
  },
  {
   "cell_type": "markdown",
   "metadata": {
    "id": "ngrok-setup"
   },
   "source": [
    "## Step 2: Setup ngrok for Public Access"
   ]
  },
  {
   "cell_type": "code",
   "execution_count": null,
   "metadata": {
    "id": "setup-ngrok"
   },
   "outputs": [],
   "source": [
    "# Setup ngrok for public internet access\n",
    "from pyngrok import ngrok\n",
    "import nest_asyncio\n",
    "\n",
    "# Allow nested event loops (required for Colab)\n",
    "nest_asyncio.apply()\n",
    "\n",
    "# Optional: Add your ngrok auth token for better limits\n",
    "# Get free token from: https://ngrok.com/\n",
    "# ngrok.set_auth_token(\"your_ngrok_token_here\")\n",
    "\n",
    "print(\"🔧 ngrok setup completed!\")"
   ]
  },
  {
   "cell_type": "markdown",
   "metadata": {
    "id": "bot-code-section"
   },
   "source": [
    "## Step 3: Core Bot Implementation"
   ]
  },
  {
   "cell_type": "code",
   "execution_count": null,
   "metadata": {
    "id": "bot-implementation"
   },
   "outputs": [],
   "source": [
    "# Main Bot Code - Copy your live-chorma.py content here\n",
    "# For brevity, I'll include the essential parts\n",
    "\n",
    "import pandas as pd\n",
    "import json\n",
    "from openai import OpenAI\n",
    "from datetime import datetime, timezone, timedelta\n",
    "import re\n",
    "import chromadb\n",
    "from typing import List, Dict, Any, Optional\n",
    "import uuid\n",
    "import os\n",
    "import requests\n",
    "import threading\n",
    "import time\n",
    "\n",
    "# Initialize the NVIDIA API client\n",
    "client = OpenAI(\n",
    "    base_url=\"https://integrate.api.nvidia.com/v1\",\n",
    "    api_key=\"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\"\n",
    ")\n",
    "\n",
    "print(\"🤖 Bot core initialized!\")\n",
    "print(\"📝 Note: Upload your complete live-chorma.py file and run it, or copy the full code here.\")"
   ]
  },
  {
   "cell_type": "markdown",
   "metadata": {
    "id": "upload-files"
   },
   "source": [
    "## Step 4: Upload Your Files (Alternative)\n",
    "\n",
    "If you prefer to upload your files instead of copying code:"
   ]
  },
  {
   "cell_type": "code",
   "execution_count": null,
   "metadata": {
    "id": "file-upload"
   },
   "outputs": [],
   "source": [
    "# Upload your files to Colab\n",
    "from google.colab import files\n",
    "import os\n",
    "\n",
    "print(\"📁 Upload your files:\")\n",
    "print(\"1. live-chorma.py (main bot code)\")\n",
    "print(\"2. api_server.py (FastAPI server)\")\n",
    "print(\"\\n👆 Click the upload button below to select files\")\n",
    "\n",
    "uploaded = files.upload()\n",
    "\n",
    "# List uploaded files\n",
    "print(\"\\n✅ Uploaded files:\")\n",
    "for filename in uploaded.keys():\n",
    "    print(f\"  - {filename} ({len(uploaded[filename])} bytes)\")\n",
    "\n",
    "# Check if we have the required files\n",
    "if 'live-chorma.py' in uploaded and 'api_server.py' in uploaded:\n",
    "    print(\"\\n🎉 All required files uploaded successfully!\")\n",
    "else:\n",
    "    print(\"\\n⚠️ Please upload both live-chorma.py and api_server.py files\")"
   ]
  },
  {
   "cell_type": "markdown",
   "metadata": {
    "id": "bot-initialization"
   },
   "source": [
    "## Step 5: Initialize Bot (if files uploaded)"
   ]
  },
  {
   "cell_type": "code",
   "execution_count": null,
   "metadata": {
    "id": "initialize-bot"
   },
   "outputs": [],
   "source": [
    "# Import the bot if files were uploaded\n",
    "try:\n",
    "    # Import your main bot module\n",
    "    import importlib.util\n",
    "    \n",
    "    # Load live-chorma.py\n",
    "    spec = importlib.util.spec_from_file_location(\"live_chorma\", \"live-chorma.py\")\n",
    "    live_chorma = importlib.util.module_from_spec(spec)\n",
    "    spec.loader.exec_module(live_chorma)\n",
    "    \n",
    "    # Get the bot instance\n",
    "    if hasattr(live_chorma, 'MeetupBot'):\n",
    "        print(\"🚀 Initializing MeetupBot...\")\n",
    "        bot = live_chorma.MeetupBot()\n",
    "        print(\"✅ MeetupBot initialized successfully!\")\n",
    "        \n",
    "        # Check connection to ChromaDB\n",
    "        try:\n",
    "            stats = bot.chroma_manager.get_collection_stats()\n",
    "            print(f\"📊 Connected to ChromaDB: {stats.get('total_events', 0)} events available\")\n",
    "        except Exception as e:\n",
    "            print(f\"⚠️ ChromaDB connection issue: {e}\")\n",
    "            print(\"🔧 The bot will try to sync events when started\")\n",
    "    else:\n",
    "        print(\"❌ MeetupBot class not found in live-chorma.py\")\n",
    "        \n",
    "except FileNotFoundError:\n",
    "    print(\"📁 Files not found. Please upload live-chorma.py and api_server.py first.\")\n",
    "except Exception as e:\n",
    "    print(f\"❌ Error initializing bot: {e}\")"
   ]
  },
  {
   "cell_type": "markdown",
   "metadata": {
    "id": "fastapi-server"
   },
   "source": [
    "## Step 6: Start FastAPI Server"
   ]
  },
  {
   "cell_type": "code",
   "execution_count": null,
   "metadata": {
    "id": "start-server"
   },
   "outputs": [],
   "source": [
    "# Start the FastAPI server with ngrok\n",
    "import subprocess\n",
    "import threading\n",
    "import time\n",
    "from pyngrok import ngrok\n",
    "\n",
    "def start_server():\n",
    "    \"\"\"Start the FastAPI server in background\"\"\"\n",
    "    try:\n",
    "        # Start uvicorn server\n",
    "        subprocess.run([\n",
    "            \"python\", \"-m\", \"uvicorn\", \n",
    "            \"api_server:app\", \n",
    "            \"--host\", \"0.0.0.0\", \n",
    "            \"--port\", \"8000\",\n",
    "            \"--reload\"\n",
    "        ])\n",
    "    except Exception as e:\n",
    "        print(f\"Server error: {e}\")\n",
    "\n",
    "# Start server in background\n",
    "print(\"🚀 Starting FastAPI server...\")\n",
    "server_thread = threading.Thread(target=start_server, daemon=True)\n",
    "server_thread.start()\n",
    "\n",
    "# Wait for server to start\n",
    "time.sleep(5)\n",
    "\n",
    "# Create ngrok tunnel\n",
    "print(\"🌐 Creating public URL with ngrok...\")\n",
    "try:\n",
    "    # Create tunnel\n",
    "    public_url = ngrok.connect(8000)\n",
    "    print(f\"\\n🎉 SUCCESS! Your API is now public at:\")\n",
    "    print(f\"📱 Public URL: {public_url}\")\n",
    "    print(f\"\\n🔗 Available Endpoints:\")\n",
    "    print(f\"  • {public_url}/api/recommendations - Main API\")\n",
    "    print(f\"  • {public_url}/api/chat - Chat endpoint\")\n",
    "    print(f\"  • {public_url}/api/stats - System stats\")\n",
    "    print(f\"  • {public_url}/health/liveness - Health check\")\n",
    "    print(f\"  • {public_url} - API documentation\")\n",
    "    \n",
    "except Exception as e:\n",
    "    print(f\"❌ Error creating public URL: {e}\")\n",
    "    print(\"💡 Try installing ngrok manually or check your connection\")"
   ]
  },
  {
   "cell_type": "markdown",
   "metadata": {
    "id": "test-api"
   },
   "source": [
    "## Step 7: Test Your API"
   ]
  },
  {
   "cell_type": "code",
   "execution_count": null,
   "metadata": {
    "id": "test-endpoints"
   },
   "outputs": [],
   "source": [
    "# Test the API endpoints\n",
    "import requests\n",
    "import json\n",
    "\n",
    "# Get the public URL (you'll need to update this with your actual ngrok URL)\n",
    "API_URL = \"https://your-ngrok-url.ngrok.io\"  # Replace with your actual URL\n",
    "\n",
    "def test_api(base_url):\n",
    "    \"\"\"Test the API endpoints\"\"\"\n",
    "    \n",
    "    print(f\"🧪 Testing API at: {base_url}\")\n",
    "    print(\"=\" * 50)\n",
    "    \n",
    "    # Test 1: Health check\n",
    "    try:\n",
    "        response = requests.get(f\"{base_url}/health/liveness\")\n",
    "        print(f\"✅ Health Check: {response.json()}\")\n",
    "    except Exception as e:\n",
    "        print(f\"❌ Health Check Failed: {e}\")\n",
    "        return\n",
    "    \n",
    "    # Test 2: Get recommendations\n",
    "    try:\n",
    "        test_request = {\n",
    "            \"query\": \"I want to play cricket this weekend\",\n",
    "            \"user_current_city\": \"noida\",\n",
    "            \"limit\": 3\n",
    "        }\n",
    "        \n",
    "        response = requests.post(\n",
    "            f\"{base_url}/api/recommendations\",\n",
    "            json=test_request\n",
    "        )\n",
    "        \n",
    "        if response.status_code == 200:\n",
    "            result = response.json()\n",
    "            print(f\"✅ Recommendations API Working!\")\n",
    "            print(f\"   Found: {result.get('total_found', 0)} events\")\n",
    "            print(f\"   Returned: {len(result.get('recommendations', []))} recommendations\")\n",
    "            \n",
    "            # Show first recommendation\n",
    "            if result.get('recommendations'):\n",
    "                event = result['recommendations'][0]\n",
    "                print(f\"\\n📅 Sample Event:\")\n",
    "                print(f\"   Name: {event.get('name')}\")\n",
    "                print(f\"   Location: {event.get('location', {}).get('full_address')}\")\n",
    "                print(f\"   Time: {event.get('start_time')} - {event.get('end_time')}\")\n",
    "                print(f\"   Price: ₹{event.get('price')}\")\n",
    "        else:\n",
    "            print(f\"❌ API Error: {response.status_code}\")\n",
    "            print(f\"   Response: {response.text}\")\n",
    "            \n",
    "    except Exception as e:\n",
    "        print(f\"❌ Recommendations Test Failed: {e}\")\n",
    "    \n",
    "    print(\"\\n🎉 Testing completed!\")\n",
    "\n",
    "# Update API_URL with your actual ngrok URL from above and run this\n",
    "print(\"⚠️ Please update API_URL variable above with your actual ngrok URL\")\n",
    "print(\"Then run: test_api(API_URL)\")\n",
    "\n",
    "# Uncomment the line below after updating API_URL\n",
    "# test_api(API_URL)"
   ]
  },
  {
   "cell_type": "markdown",
   "metadata": {
    "id": "example-requests"
   },
   "source": [
    "## Step 8: Example API Usage"
   ]
  },
  {
   "cell_type": "code",
   "execution_count": null,
   "metadata": {
    "id": "api-examples"
   },
   "outputs": [],
   "source": [
    "# Example API requests you can make from your app\n",
    "\n",
    "# Example 1: User in Delhi looking for cricket\n",
    "example_1 = {\n",
    "    \"query\": \"I want to play cricket this weekend\",\n",
    "    \"user_id\": \"user123\",\n",
    "    \"user_current_city\": \"delhi\",\n",
    "    \"limit\": 5\n",
    "}\n",
    "\n",
    "# Example 2: User in Noida with specific preferences\n",
    "example_2 = {\n",
    "    \"query\": \"badminton or table tennis events\",\n",
    "    \"user_current_city\": \"noida\",\n",
    "    \"preferences\": {\n",
    "        \"activities\": [\"badminton\", \"table tennis\"],\n",
    "        \"budget_max\": 500\n",
    "    },\n",
    "    \"limit\": 3\n",
    "}\n",
    "\n",
    "# Example 3: User in Mumbai looking for any fun activities\n",
    "example_3 = {\n",
    "    \"query\": \"What fun activities are happening today?\",\n",
    "    \"user_current_city\": \"mumbai\"\n",
    "}\n",
    "\n",
    "print(\"📝 Example API Requests:\")\n",
    "print(\"\\n1. Delhi Cricket:\")\n",
    "print(json.dumps(example_1, indent=2))\n",
    "\n",
    "print(\"\\n2. Noida Badminton:\")\n",
    "print(json.dumps(example_2, indent=2))\n",
    "\n",
    "print(\"\\n3. Mumbai General:\")\n",
    "print(json.dumps(example_3, indent=2))\n",
    "\n",
    "print(\"\\n🔗 Send these as POST requests to: {your_ngrok_url}/api/recommendations\")"
   ]
  },
  {
   "cell_type": "markdown",
   "metadata": {
    "id": \"keep-running\"
   },
   "source": [
    "## Step 9: Keep Server Running"
   ]
  },
  {
   "cell_type": "code",
   "execution_count": null,
   "metadata": {
    "id": \"server-status\"
   },
   "outputs": [],
   "source": [
    "# Keep the server running and monitor status\n",
    "import time\n",
    "\n",
    "print(\"🔄 Server is running...\")\n",
    "print(\"💡 Keep this cell running to maintain the API\")\n",
    "print(\"⚠️ The ngrok URL will change if you restart this notebook\")\n",
    "\n",
    "try:\n",
    "    while True:\n",
    "        # Check ngrok tunnels\n",
    "        tunnels = ngrok.get_tunnels()\n",
    "        if tunnels:\n",
    "            for tunnel in tunnels:\n",
    "                print(f\"🌐 Active tunnel: {tunnel.public_url}\")\n",
    "        else:\n",
    "            print(\"⚠️ No active tunnels found\")\n",
    "        \n",
    "        # Wait 30 seconds before next check\n",
    "        time.sleep(30)\n",
    "        \n",
    "except KeyboardInterrupt:\n",
    "    print(\"\\n🛑 Server stopped by user\")\n",
    "    # Clean up ngrok tunnels\n",
    "    ngrok.kill()\n",
    "    print(\"🧹 Cleaned up ngrok tunnels\")"
   ]
  },
  {
   "cell_type": "markdown",
   "metadata": {
    "id": \"integration-guide\"
   },
   "source": [
    "## Integration Guide for Your App\n",
    "\n",
    "Once your API is running, you can integrate it with your mobile/web app:\n",
    "\n",
    "### JavaScript Example:\n",
    "```javascript\n",
    "const response = await fetch('https://your-ngrok-url.ngrok.io/api/recommendations', {\n",
    "  method: 'POST',\n",
    "  headers: { 'Content-Type': 'application/json' },\n",
    "  body: JSON.stringify({\n",
    "    query: \"cricket events this weekend\",\n",
    "    user_current_city: \"noida\",\n",
    "    limit: 5\n",
    "  })\n",
    "});\n",
    "\n",
    "const data = await response.json();\n",
    "console.log(data.recommendations);\n",
    "```\n",
    "\n",
    "### Python Example:\n",
    "```python\n",
    "import requests\n",
    "\n",
    "response = requests.post('https://your-ngrok-url.ngrok.io/api/recommendations', json={\n",
    "    \"query\": \"cricket events this weekend\",\n",
    "    \"user_current_city\": \"noida\",\n",
    "    \"limit\": 5\n",
    "})\n",
    "\n",
    "events = response.json()['recommendations']\n",
    "for event in events:\n",
    "    print(f\"{event['name']} - {event['location']['full_address']}\")\n",
    "```\n",
    "\n",
    "### Key Features:\n",
    "- ✅ **City Filtering**: Only shows events in user's current city\n",
    "- ✅ **Smart Matching**: AI-powered event recommendations\n",
    "- ✅ **Clean JSON**: No unnecessary fields, perfect for UI\n",
    "- ✅ **Registration URLs**: Direct links for event booking\n",
    "- ✅ **IST Times**: All times in Indian Standard Time\n"
   ]
  }
 ],
 "metadata": {
  "colab": {
   "provenance": []
  },
  "kernelspec": {
   "display_name": "Python 3",
   "name": "python3"
  },
  "language_info": {
   "name": "python"
  }
 },
 "nbformat": 4,
 "nbformat_minor": 0
}